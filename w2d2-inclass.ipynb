{
 "cells": [
  {
   "cell_type": "markdown",
   "id": "a4e4aab2",
   "metadata": {},
   "source": [
    "## W2D2: Decorators and Generators\n",
    "First: revisiting `urllib` vs. `requests`: https://www.zenrows.com/blog/urllib-vs-urllib3-vs-requests#feature-comparison"
   ]
  },
  {
   "cell_type": "code",
   "execution_count": 1,
   "id": "3a20cbea",
   "metadata": {},
   "outputs": [
    {
     "name": "stdout",
     "output_type": "stream",
     "text": [
      "Feels like 77.86 degrees in Brooklyn\n"
     ]
    }
   ],
   "source": [
    "import json\n",
    "import urllib\n",
    "\n",
    "CITY = 'Brooklyn'\n",
    "\n",
    "PATH_TO_KEY = r'C:\\Users\\sstucker\\Documents\\JTC\\AISE 25\\api.env'\n",
    "with open(PATH_TO_KEY, 'r') as f:\n",
    "    api_key = f.read().strip().split('=')[1]\n",
    "\n",
    "params = {\n",
    "    'q': CITY,\n",
    "    'appid': api_key,\n",
    "    'units': 'imperial',\n",
    "    'limit': 1\n",
    "}\n",
    "\n",
    "url = \"http://api.openweathermap.org/data/2.5/weather?\" + urllib.parse.urlencode(params)\n",
    "\n",
    "response = urllib.request.urlopen(url)\n",
    "\n",
    "d = json.loads(response.read())\n",
    "\n",
    "# print(json.dumps(d, indent=2))\n",
    "\n",
    "feels_like = d['main']['feels_like']\n",
    "print('Feels like', float(feels_like), 'degrees in', CITY)"
   ]
  },
  {
   "cell_type": "code",
   "execution_count": null,
   "id": "9a75794b",
   "metadata": {},
   "outputs": [
    {
     "name": "stdout",
     "output_type": "stream",
     "text": [
      "Feels like 77.86 degrees in Brooklyn\n"
     ]
    }
   ],
   "source": [
    "import json\n",
    "import requests\n",
    "\n",
    "params = {\n",
    "    'q': CITY,\n",
    "    'appid': api_key,\n",
    "    'units': 'imperial',\n",
    "    'limit': 1\n",
    "}\n",
    "\n",
    "url = \"http://api.openweathermap.org/data/2.5/weather\"\n",
    "\n",
    "response = requests.get(url, params=params)\n",
    "d = response.json()  # Built-in JSON parsing\n",
    "\n",
    "feels_like = d['main']['feels_like']\n",
    "print('Feels like', float(feels_like), 'degrees in', CITY)"
   ]
  }
 ],
 "metadata": {
  "kernelspec": {
   "display_name": "Python 3",
   "language": "python",
   "name": "python3"
  },
  "language_info": {
   "codemirror_mode": {
    "name": "ipython",
    "version": 3
   },
   "file_extension": ".py",
   "mimetype": "text/x-python",
   "name": "python",
   "nbconvert_exporter": "python",
   "pygments_lexer": "ipython3",
   "version": "3.11.7"
  }
 },
 "nbformat": 4,
 "nbformat_minor": 5
}
